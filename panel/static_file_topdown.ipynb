{
 "cells": [
  {
   "attachments": {},
   "cell_type": "markdown",
   "metadata": {},
   "source": [
    "## app backend settings and internal functions"
   ]
  },
  {
   "cell_type": "code",
   "execution_count": 1,
   "metadata": {},
   "outputs": [],
   "source": [
    "from IPython import get_ipython"
   ]
  },
  {
   "cell_type": "code",
   "execution_count": null,
   "metadata": {},
   "outputs": [],
   "source": [
    "import pandas as pd\n",
    "import hvplot.pandas  # Adds .hvplot and .interactive methods to Pandas dataframes\n",
    "import panel as pn  # Panel is a simple, flexible and enterprise-ready data app framework\n",
    "\n",
    "pn.extension(sizing_mode=\"stretch_width\", template=\"fast\")\n",
    "pd.set_option(\"display.precision\", 0)\n",
    "\n",
    "PALETTE = [\n",
    "    \"#ff6f69\",\n",
    "    \"#ffcc5c\",\n",
    "    \"#88d8b0\",\n",
    "]\n",
    "ACCENT_BASE_COLOR = PALETTE[2]"
   ]
  },
  {
   "cell_type": "code",
   "execution_count": null,
   "metadata": {},
   "outputs": [],
   "source": [
    "import holoviews as hv\n",
    "from holoviews import opts\n",
    "import matplotlib.pyplot as plt\n",
    "from typing import List, Set, Dict, Tuple, Union, Any\n",
    "from dataclasses import dataclass\n",
    "import datashader as ds\n",
    "import colorcet as cc\n",
    "from holoviews.operation.datashader import datashade, shade, dynspread, spread, rasterize\n",
    "\n",
    "from pyteomics import mzml, auxiliary\n",
    "import numba\n",
    "import matplotlib.pyplot as plt\n",
    "import pandas as pd\n",
    "import scipy.stats as stats\n",
    "import numpy  as np\n",
    "from scipy.optimize import curve_fit\n",
    "from collections import defaultdict\n",
    "\n",
    "from bokeh.palettes import Magma, Inferno, Plasma, Viridis, Cividis\n",
    "from holoviews.plotting.util import bokeh_palette_to_palette\n",
    "from matplotlib.cm import get_cmap\n",
    "from bokeh.models import HoverTool\n",
    "# import random, pandas as pd, numpy as np, holoviews as hv, datashader as ds, colorcet as cc\n",
    "# from hv.datashader import datashade, shade, dynspread, spread, rasterize\n",
    "\n",
    "hv.extension('bokeh', 'matplotlib', 'plotly')\n",
    "\n",
    "TIMD_CONST = 1.002371  # TopDown isotope mass difference 55k u see OpenMS::Constants in kyowons branch\n",
    "\n",
    "base_dir = \"/workspaces/TopDown/data/cyto/\""
   ]
  },
  {
   "cell_type": "code",
   "execution_count": null,
   "metadata": {},
   "outputs": [],
   "source": [
    "@dataclass\n",
    "class SpecRef:\n",
    "    spectrum_id: str\n",
    "    tolerance: float\n",
    "    massoffset: float\n",
    "    chargemass: float\n",
    "    isotoperangelimits: List[Tuple[int]]\n",
    "    chargerangelimits: np.ndarray\n",
    "\n",
    "@dataclass\n",
    "class TargetRef:\n",
    "    spectrum_id: str\n",
    "    peak_index: int \n",
    "    mass: float\n",
    "    charge: int\n",
    "    mass_matches: np.ndarray\n",
    "    intensity_matches: np.ndarray\n",
    "    isotope_matches: np.ndarray\n",
    "\n",
    "def parse_deconv_spectra_meta(spectrum: Dict[str,Any]) -> SpecRef:\n",
    "  tolerance, massoffset, chargemass, *peaknotes = spectrum['DeconvMassInfo'].split(';')\n",
    "  tolerance = float(tolerance.split('=')[1])\n",
    "  massoffset = float(massoffset.split('=')[1])\n",
    "  chargemass = float(chargemass.split('=')[1])\n",
    "  peaknotes[0] = peaknotes[0].split('=')[1]\n",
    "  peaknotes = [i.split(',') for i in peaknotes if i]  # if i necessary because of trailing ,\n",
    "  chargeranges, isotoperanges = list(map(list, zip(*peaknotes)))\n",
    "  chargerangelimits = [tuple(map(int, i.split(':'))) for i in chargeranges]\n",
    "  # fix 0 charges is too paranoid? chargerangelimits = [ min(1, i[1]) if i[0]<1 else i for i in chargerangelimits]  \n",
    "  isotoperangelimits = [(0,int(j)) for j in isotoperanges]           \n",
    "  # TODO check len(spectrum) == len(chargerangelimits) == len(isotoperangelimits)\n",
    "  specref = SpecRef(spectrum['id'],\n",
    "                    tolerance,massoffset,chargemass,\n",
    "                    chargerangelimits,isotoperangelimits)\n",
    "  return specref\n",
    "\n",
    "def delta_ppm(m1,m2):\n",
    "  return (m1 - m2) / m2 * 10**6\n",
    "\n",
    "def get_match_window(mass,tolerance):\n",
    "  \"\"\"\n",
    "  tolerance in ppm \n",
    "  mass in m/z\n",
    "  returned is window border left and window border right\n",
    "  \"\"\"\n",
    "  tol = tolerance/2\n",
    "  md = ((tol / 10**6) * mass) \n",
    "  return mass-md, mass+md  \n",
    "\n",
    "def calc_mz(givenmass, z, iso, massoffset, chargemass):\n",
    "  return (givenmass - massoffset + iso * TIMD_CONST)/z + chargemass\n",
    "\n",
    "def calc_range(givenmass, z, iso_min, iso_max, massoffset, chargemass):\n",
    "  return ((givenmass - massoffset + (iso_min-2) * TIMD_CONST)/z + chargemass, \n",
    "          (givenmass - massoffset + (iso_max+2) * TIMD_CONST)/z + chargemass )\n",
    "\n",
    "def discharge_mz(givenmass, z, chargemass):\n",
    "  return (givenmass - chargemass) * z\n",
    "\n",
    "v_discharge_mz = np.vectorize(discharge_mz)\n",
    "# TODO some peaks have 0 matches! => cannot call `vectorize` on size 0 inputs unless `otypes` is set\n",
    "\n",
    "def get_source_peaks(range_l, range_r, source_spectrum):\n",
    "  target_idx = np.where(np.logical_and(source_spectrum[\"m/z array\"] > range_l, source_spectrum[\"m/z array\"] < range_r))\n",
    "  return source_spectrum[\"m/z array\"][target_idx], \\\n",
    "          source_spectrum[\"intensity array\"][target_idx], \\\n",
    "          np.ones(len(target_idx[0]))*-1\n",
    "\n",
    "def acquire_targets_per_spectrum(deconv_spectrum: Dict[str,Any], source_spectrum: Dict[str,Any]):\n",
    "  target_matches = list()\n",
    "  specref = parse_deconv_spectra_meta(deconv_spectrum)\n",
    "  # TODO replace for-cascade with product \n",
    "  # see (http://stephantul.github.io/python/2019/07/20/product/\n",
    "  # or https://note.nkmk.me/en/python-itertools-product/)\n",
    "  for i in range(0,len(deconv_spectrum[\"m/z array\"])):\n",
    "    for z in range(specref.chargerangelimits[i][0], specref.chargerangelimits[i][1]+1):\n",
    "      range_l, range_r = calc_range(deconv_spectrum[\"m/z array\"][i], z, \n",
    "                                    specref.isotoperangelimits[i][0], \n",
    "                                    specref.isotoperangelimits[i][1], \n",
    "                                    specref.massoffset, specref.chargemass)\n",
    "      target_range_mz, target_range_int, target_range_iso = get_source_peaks(range_l, range_r, source_spectrum)\n",
    "      if target_range_mz.size > 0:\n",
    "        target_range_mass = v_discharge_mz(target_range_mz, z, specref.chargemass)\n",
    "      else:\n",
    "        target_range_mass = target_range_mz\n",
    "      for e in range(specref.isotoperangelimits[i][0], specref.isotoperangelimits[i][1]+1):\n",
    "          target_mz_iso = calc_mz(source_spectrum[\"m/z array\"][i],z,e, specref.massoffset, specref.chargemass)\n",
    "          mz_window_l, mz_window_r = get_match_window(target_mz_iso, specref.tolerance)\n",
    "          np.put(target_range_iso, np.where(np.logical_and(target_range_mz > mz_window_l, target_range_mz < mz_window_r)), e)\n",
    "      target_matches.append(\n",
    "          TargetRef(deconv_spectrum[\"id\"],\n",
    "                    i, deconv_spectrum[\"m/z array\"][i], z,\n",
    "                    target_range_mass, target_range_int, target_range_iso)\n",
    "      )\n",
    "  return target_matches\n"
   ]
  },
  {
   "cell_type": "code",
   "execution_count": null,
   "metadata": {},
   "outputs": [],
   "source": [
    "\n",
    "with mzml.read(base_dir + \"190226_Cyto_1_FD_500ng_deconv.mzML\") as reader:\n",
    "\tdeconv_spectra = [spectrum for spectrum in reader]\t\n",
    "\n",
    "with mzml.read(base_dir + \"190226_Cyto_1_FD_500ng_annotated.mzML\") as reader:\n",
    "\tannot_spectra = [spectrum for spectrum in reader]\n",
    "\n",
    "vis_dict = dict()\n",
    "for s_a, s_o in zip(deconv_spectra, annot_spectra):\n",
    "  vis_dict[s_a['spectrum title']] = acquire_targets_per_spectrum(s_a,s_o)"
   ]
  },
  {
   "attachments": {},
   "cell_type": "markdown",
   "metadata": {},
   "source": [
    "## figure code"
   ]
  },
  {
   "cell_type": "code",
   "execution_count": null,
   "metadata": {},
   "outputs": [],
   "source": [
    "for ori_spectrum, spectrum in zip(annot_spectra,deconv_spectra):\n",
    "  if \".165.\" in spectrum[\"spectrum title\"]:\n",
    "    break\n",
    "\n",
    "hv.extension('matplotlib')\n",
    "# hv.extension('bokeh')\n",
    "peak_coord = pd.DataFrame(np.concatenate([spectrum[\"m/z array\"][np.newaxis].T, spectrum[\"intensity array\"][np.newaxis].T], axis=1), columns = ['mass','intensity'])\n",
    "fig_d = hv.Spikes(peak_coord).opts(color='green', title=\"Deconvolved Spectrum {}\".format(spectrum[\"id\"]))\n",
    "peak_coord = pd.DataFrame(np.concatenate([ori_spectrum[\"m/z array\"][np.newaxis].T, ori_spectrum[\"intensity array\"][np.newaxis].T], axis=1), columns = ['m/z','intensity'])\n",
    "fig_o = hv.Spikes(peak_coord).opts(color='blue', title=\"Original Spectrum {}\".format(spectrum[\"id\"]))\n",
    "fig_s = fig_o.opts(aspect=3, padding=0.1) + fig_d.opts(aspect=3, padding=0.1)\n",
    "# fig_s = fig_o.opts(aspect=2, padding=0.10) + fig_d.opts(aspect=2, padding=0.1)\n",
    "fig_s.opts(aspect_weight=True, tight=False, fig_inches=300, fig_size=3).cols(1)\n",
    "# fig_s.opts(aspect_weight=True, tight=False).cols(1)\n",
    "for title, target_matches in vis_dict.items():\n",
    "  if \".165.\" in title:\n",
    "    break\n",
    "\n",
    "target_matches[-1]\n",
    "plot_title = ' '.join([spectrum[\"id\"].split(' ')[-1], 'precursor mass =', str(target_matches[-1].mass)])\n",
    "\n",
    "hv.extension('matplotlib')\n",
    "#each peak has its matches\n",
    "last_peak = filter(lambda t: t.peak_index==19, target_matches)\n",
    "#for each charge there is an element in target_matches with resp. peak index\n",
    "vis_peaks = list()\n",
    "for t in last_peak:\n",
    "  for idx, m in enumerate(t.mass_matches):\n",
    "    vis_peaks.append(\n",
    "        {('y', 'x', 'z'): [[t.charge,m,0],[t.charge,m,t.intensity_matches[idx]]], \n",
    "         'type': 'noise' if t.isotope_matches[idx]<0 else 'isomatch'}\n",
    "    )\n",
    "\n",
    "fig = hv.Path3D(vis_peaks, vdims='type')\n",
    "fig.opts(\n",
    "        ylabel=\"Charge\",\n",
    "        xlabel=\"Mass\",\n",
    "        zlabel=\"Intensity\",\n",
    "        color=\"blue\"\n",
    ").opts(fig_size=300, title=plot_title, invert_yaxis=False)\n"
   ]
  },
  {
   "attachments": {},
   "cell_type": "markdown",
   "metadata": {},
   "source": [
    "## sidebar wigets\n",
    "\n",
    "You can find the widget reference guides [here](https://panel.holoviz.org/reference/index.html#widgets)."
   ]
  },
  {
   "cell_type": "code",
   "execution_count": null,
   "metadata": {},
   "outputs": [],
   "source": [
    "frequency = pn.widgets.FileInput(\n",
    "    value=\"static\", name=\"Input mzML file\"\n",
    ").servable(area=\"sidebar\")\n",
    "window = pn.widgets.StaticText(\n",
    "    value=\"blabla\", name=\"Announcement\"\n",
    ").servable(area=\"sidebar\")\n",
    "filecontent = pn.widgets.DataFrame(\n",
    "    pd.DataFrame({'spectrum level':[s['ms level'] for s in deconv_spectra]}),\n",
    "    # pd.DataFrame({'spectrum':['MS1','MS2']}),\n",
    "    height=300, frozen_columns=1,\n",
    ").servable(area=\"sidebar\")\n",
    "filecontent.selection = [164]\n",
    "rotation = pn.widgets.IntSlider(\n",
    "    value=40, start=0, end=180, name=\"3D rotation\"\n",
    ").servable(area=\"sidebar\")"
   ]
  },
  {
   "attachments": {},
   "cell_type": "markdown",
   "metadata": {},
   "source": [
    "## serve panels"
   ]
  },
  {
   "cell_type": "code",
   "execution_count": null,
   "metadata": {},
   "outputs": [],
   "source": [
    "pn.pane.Markdown(\"\"\"\n",
    "First the selected spectrum, and from there the peaks deconvolution source(s)\n",
    "\"\"\").servable()"
   ]
  },
  {
   "cell_type": "code",
   "execution_count": null,
   "metadata": {},
   "outputs": [],
   "source": [
    "def message():\n",
    "    return f\"\"\"Then details on the selected spectrum **{filecontent.selection}**.\"\"\"\n",
    "\n",
    "# imessage = ipipeline.pipe(message, nrows=nrows)\n",
    "# imessage"
   ]
  },
  {
   "cell_type": "code",
   "execution_count": null,
   "metadata": {},
   "outputs": [],
   "source": [
    "vis_spec_df = pn.widgets.DataFrame(\n",
    "    pd.DataFrame(np.concatenate([spectrum[\"m/z array\"][np.newaxis].T, spectrum[\"intensity array\"][np.newaxis].T], axis=1), columns = ['mass','intensity']),\n",
    "    height=500, frozen_columns=1,\n",
    ")"
   ]
  },
  {
   "cell_type": "code",
   "execution_count": null,
   "metadata": {},
   "outputs": [],
   "source": [
    "pn.Row(fig_s).servable()\n",
    "pn.pane.Markdown(message()).servable()\n",
    "pn.Row(vis_spec_df).servable()\n",
    "pn.Row(fig).servable()"
   ]
  },
  {
   "cell_type": "markdown",
   "metadata": {},
   "source": [
    "## Configure the Data App"
   ]
  },
  {
   "cell_type": "code",
   "execution_count": null,
   "metadata": {},
   "outputs": [],
   "source": [
    "pn.state.template.param.update(\n",
    "    site=\"TopDownViz\",\n",
    "    title=\"Turn topdown mzML into deconvolved spectra visualisations\",\n",
    "    accent_base_color=ACCENT_BASE_COLOR,\n",
    "    header_background=ACCENT_BASE_COLOR,\n",
    ")"
   ]
  },
  {
   "attachments": {},
   "cell_type": "markdown",
   "metadata": {},
   "source": [
    "You can **serve the app** with `panel serve static_file_topdown.ipynb`. Add `--autoreload` for *hot reloading* while developing. The app is available at [http://localhost:5006/static_file_topdown](http://localhost:5006/HvplotInteractive).\n",
    "\n",
    "- For previewing the app in Jupyter lab check out the [Panel Jupyter Lab Preview](https://blog.holoviz.org/panel_0.12.0.html#JupyterLab-previews).\n",
    "- For deployment options check out the [Server Deployment User Guide](https://panel.holoviz.org/user_guide/Server_Deployment.html)."
   ]
  }
 ],
 "metadata": {
  "kernelspec": {
   "display_name": "Python 3.6.9 64-bit",
   "language": "python",
   "name": "python3"
  },
  "language_info": {
   "codemirror_mode": {
    "name": "ipython",
    "version": 3
   },
   "file_extension": ".py",
   "mimetype": "text/x-python",
   "name": "python",
   "nbconvert_exporter": "python",
   "pygments_lexer": "ipython3",
   "version": "3.8.11 (default, Jul 22 2021, 15:32:17) \n[GCC 8.3.0]"
  },
  "vscode": {
   "interpreter": {
    "hash": "949777d72b0d2535278d3dc13498b2535136f6dfe0678499012e853ee9abcab1"
   }
  }
 },
 "nbformat": 4,
 "nbformat_minor": 4
}
